{
  "cells": [
    {
      "cell_type": "markdown",
      "metadata": {
        "id": "view-in-github",
        "colab_type": "text"
      },
      "source": [
        "<a href=\"https://colab.research.google.com/github/I1To4U/CVE_test/blob/main/%5BMake_A_COPY%5D_Numbers%2C%2BString%2Band%2BLists.ipynb\" target=\"_parent\"><img src=\"https://colab.research.google.com/assets/colab-badge.svg\" alt=\"Open In Colab\"/></a>"
      ]
    },
    {
      "cell_type": "markdown",
      "source": [
        "**This notebook incorporates examples and exercises adapted from Jake Feldman's Data Science – Python (OSCM400C) course, Olin Business School, Washington University in St. Louis.**\n",
        "\n"
      ],
      "metadata": {
        "id": "QEzWZOE7sBrH"
      }
    },
    {
      "cell_type": "markdown",
      "metadata": {
        "id": "4jrznO-jr5zc"
      },
      "source": [
        "# Python Objects\n",
        "\n",
        "Any data that we store or keep track of will take the form of a python object.  Different objects are used to store different types of a data; a number is stored differently than a word which is stored differently than a list of numbers.  We will use the following built in objects:\n",
        "\n",
        "- **Numbers**: integers, real numbers, etc...\n",
        "    - **Boolean** : True or False\n",
        "- **Strings**: arbitary sequence of characters\n",
        "- **Lists**: ordered collection of objects\n",
        "- Dictionaries: store objects by key\n",
        "- Tuples: list that cannot be changed\n",
        "- Files: stores contents of file (.csv, .txt, .xls)\n",
        "\n",
        "\n",
        "Python objects are *dynamically typed*: you do not have to declare the type of variable upon creation.\n",
        "\n",
        "Python objects are *strongly typed*: there are type specific operations.\n",
        "\n",
        "Objects that are *mutable* can be changed once created.  *Immutable* objects cannot be changed once created.\n",
        "\n",
        "## Variables and Basic Expressions\n",
        "\n",
        "*Variables* are simply names that are used to keep track of information (stored as various objects) in your program.\n",
        "\n",
        "- Variables are created when they are first assigned a value.\n",
        "- Variables must be assigned before they can be used.\n",
        "- Variables refer to objects.\n",
        "\n",
        "## Numbers (immutable)\n",
        "\n",
        "With regards to number objects, we will almost exclusively work with integers and floating point numbers (real numbers). Python stores these two types differently and for certain arithmetic operations it is important to know the type you are working with.\n",
        "\n",
        "\n",
        "Let's create our first variables!"
      ]
    },
    {
      "cell_type": "code",
      "execution_count": null,
      "metadata": {
        "id": "ORsBBen5r5zc",
        "outputId": "28b390e8-69fe-4f47-f5d9-4b3bb7afa189",
        "colab": {
          "base_uri": "https://localhost:8080/"
        }
      },
      "outputs": [
        {
          "output_type": "execute_result",
          "data": {
            "text/plain": [
              "6.6"
            ]
          },
          "metadata": {},
          "execution_count": 1
        }
      ],
      "source": [
        "x = 5\n",
        "y = 6.6\n",
        "\n",
        "y"
      ]
    },
    {
      "cell_type": "markdown",
      "metadata": {
        "id": "gQfWchc7r5zd"
      },
      "source": [
        "Note that we can see the variable's value in the output by simply typing its names. However, we only see the last variable that we typed (in this case that is x). To see all of the variable we can wrap the variable in a **print** statement as follows.\n"
      ]
    },
    {
      "cell_type": "code",
      "execution_count": null,
      "metadata": {
        "id": "aCuym0Lmr5zd",
        "outputId": "9d73f002-bb24-4e69-d479-01b732bb5238",
        "colab": {
          "base_uri": "https://localhost:8080/"
        }
      },
      "outputs": [
        {
          "output_type": "stream",
          "name": "stdout",
          "text": [
            "6.6\n",
            "5\n"
          ]
        }
      ],
      "source": [
        "print(y)\n",
        "print(x)"
      ]
    },
    {
      "cell_type": "code",
      "source": [
        "z = y-x"
      ],
      "metadata": {
        "id": "ctbYoi8PXttf"
      },
      "execution_count": null,
      "outputs": []
    },
    {
      "cell_type": "code",
      "source": [
        "print(z)"
      ],
      "metadata": {
        "colab": {
          "base_uri": "https://localhost:8080/"
        },
        "id": "i_hDFIm1X4BT",
        "outputId": "dbe9451a-0dad-47b2-d2c3-596dbd072f85"
      },
      "execution_count": null,
      "outputs": [
        {
          "output_type": "stream",
          "name": "stdout",
          "text": [
            "1.5999999999999996\n"
          ]
        }
      ]
    },
    {
      "cell_type": "markdown",
      "metadata": {
        "id": "W0PKCoZ-r5zd"
      },
      "source": [
        "Or we can always run the following two lines of code at the top of our notebook (recommended)."
      ]
    },
    {
      "cell_type": "code",
      "execution_count": null,
      "metadata": {
        "collapsed": true,
        "id": "AWuf10ezr5ze"
      },
      "outputs": [],
      "source": [
        "#This bit of code allows me to output more than one variable value without using a print statement.\n",
        "from IPython.core.interactiveshell import InteractiveShell\n",
        "InteractiveShell.ast_node_interactivity = \"all\""
      ]
    },
    {
      "cell_type": "code",
      "execution_count": null,
      "metadata": {
        "id": "JWHvjEIur5ze",
        "outputId": "f023b483-02c9-432e-bb22-6b8a306a829b",
        "colab": {
          "base_uri": "https://localhost:8080/"
        }
      },
      "outputs": [
        {
          "output_type": "execute_result",
          "data": {
            "text/plain": [
              "6.6"
            ]
          },
          "metadata": {},
          "execution_count": 4
        },
        {
          "output_type": "execute_result",
          "data": {
            "text/plain": [
              "5"
            ]
          },
          "metadata": {},
          "execution_count": 4
        }
      ],
      "source": [
        "#Now we don't need the print statement\n",
        "y\n",
        "x"
      ]
    },
    {
      "cell_type": "markdown",
      "metadata": {
        "id": "PAFdaWiwr5ze"
      },
      "source": [
        "We can use the **type** command to check what type of python object a particular variable is."
      ]
    },
    {
      "cell_type": "code",
      "execution_count": null,
      "metadata": {
        "id": "3hewNZy3r5ze",
        "outputId": "a415cbeb-23b6-4208-a55a-1b4bd5f9cb1f",
        "colab": {
          "base_uri": "https://localhost:8080/"
        }
      },
      "outputs": [
        {
          "output_type": "execute_result",
          "data": {
            "text/plain": [
              "int"
            ]
          },
          "metadata": {},
          "execution_count": 6
        }
      ],
      "source": [
        "type(x)"
      ]
    },
    {
      "cell_type": "code",
      "source": [
        "type(y)"
      ],
      "metadata": {
        "colab": {
          "base_uri": "https://localhost:8080/"
        },
        "id": "h24TYhuCYC3S",
        "outputId": "d8a575dd-93e2-42de-ccc2-3ecf296837d3"
      },
      "execution_count": null,
      "outputs": [
        {
          "output_type": "execute_result",
          "data": {
            "text/plain": [
              "float"
            ]
          },
          "metadata": {},
          "execution_count": 7
        }
      ]
    },
    {
      "cell_type": "code",
      "source": [
        "type(z)"
      ],
      "metadata": {
        "colab": {
          "base_uri": "https://localhost:8080/"
        },
        "id": "VRV21h6eYJNg",
        "outputId": "c8c61873-c242-4116-b333-2bb1d520c382"
      },
      "execution_count": null,
      "outputs": [
        {
          "output_type": "execute_result",
          "data": {
            "text/plain": [
              "float"
            ]
          },
          "metadata": {},
          "execution_count": 8
        }
      ]
    },
    {
      "cell_type": "code",
      "source": [
        "a = 10"
      ],
      "metadata": {
        "id": "4Dqdy_gTRv1g"
      },
      "execution_count": null,
      "outputs": []
    },
    {
      "cell_type": "code",
      "source": [
        "type(a)"
      ],
      "metadata": {
        "colab": {
          "base_uri": "https://localhost:8080/"
        },
        "id": "O2UbF-StR0Yv",
        "outputId": "195646f9-329c-43fc-d68e-2afd06bc3559"
      },
      "execution_count": null,
      "outputs": [
        {
          "output_type": "execute_result",
          "data": {
            "text/plain": [
              "int"
            ]
          },
          "metadata": {},
          "execution_count": 2
        }
      ]
    },
    {
      "cell_type": "code",
      "source": [
        "a = \"hello\""
      ],
      "metadata": {
        "id": "ObfwT8TmR22v"
      },
      "execution_count": null,
      "outputs": []
    },
    {
      "cell_type": "code",
      "source": [
        "type(a)"
      ],
      "metadata": {
        "colab": {
          "base_uri": "https://localhost:8080/"
        },
        "id": "uDIENjFFR9Pn",
        "outputId": "f78b70ef-c0cc-4c46-8127-cf1534561094"
      },
      "execution_count": null,
      "outputs": [
        {
          "output_type": "execute_result",
          "data": {
            "text/plain": [
              "str"
            ]
          },
          "metadata": {},
          "execution_count": 4
        }
      ]
    },
    {
      "cell_type": "markdown",
      "metadata": {
        "id": "-Wqm2_7nr5ze"
      },
      "source": [
        "We can convert variables to other types. To cast a variable as an integer use **int** and for a float use **float**.  Note that we can always store the result of any operation in another variable"
      ]
    },
    {
      "cell_type": "code",
      "execution_count": null,
      "metadata": {
        "id": "Kimtkfd1r5ze",
        "outputId": "23eef1b3-f362-4a53-8dbe-f3760bc68a39",
        "colab": {
          "base_uri": "https://localhost:8080/"
        }
      },
      "outputs": [
        {
          "output_type": "execute_result",
          "data": {
            "text/plain": [
              "(6, 5.0)"
            ]
          },
          "metadata": {},
          "execution_count": 6
        },
        {
          "output_type": "execute_result",
          "data": {
            "text/plain": [
              "(6.6, 5)"
            ]
          },
          "metadata": {},
          "execution_count": 6
        }
      ],
      "source": [
        "a = int(y)\n",
        "b = float(x)\n",
        "\n",
        "a,b\n",
        "y,x"
      ]
    },
    {
      "cell_type": "markdown",
      "metadata": {
        "id": "nN2RmgI1r5ze"
      },
      "source": [
        "### Arithmetic Operations"
      ]
    },
    {
      "cell_type": "code",
      "execution_count": null,
      "metadata": {
        "id": "YyPtB0Gyr5ze",
        "outputId": "87449d23-f5c2-4a01-9383-c72a3d96046f",
        "colab": {
          "base_uri": "https://localhost:8080/"
        }
      },
      "outputs": [
        {
          "output_type": "execute_result",
          "data": {
            "text/plain": [
              "11.6"
            ]
          },
          "metadata": {},
          "execution_count": 7
        }
      ],
      "source": [
        "#Addition\n",
        "x+y"
      ]
    },
    {
      "cell_type": "code",
      "execution_count": null,
      "metadata": {
        "id": "tPabiHS7r5zf",
        "outputId": "dc643814-c7cf-4680-88a8-21f5c9e66109",
        "colab": {
          "base_uri": "https://localhost:8080/"
        }
      },
      "outputs": [
        {
          "output_type": "execute_result",
          "data": {
            "text/plain": [
              "1.5999999999999996"
            ]
          },
          "metadata": {},
          "execution_count": 8
        }
      ],
      "source": [
        "#Subtraction (We already see some weird stuff happening with this simple operation)\n",
        "y-x"
      ]
    },
    {
      "cell_type": "code",
      "execution_count": null,
      "metadata": {
        "id": "AAmOS1lar5zf",
        "outputId": "3e9c0c8c-75e6-4c30-a369-56837fa69af2",
        "colab": {
          "base_uri": "https://localhost:8080/"
        }
      },
      "outputs": [
        {
          "output_type": "execute_result",
          "data": {
            "text/plain": [
              "1.3199999999999998"
            ]
          },
          "metadata": {},
          "execution_count": 9
        }
      ],
      "source": [
        "#Division\n",
        "y/x"
      ]
    },
    {
      "cell_type": "code",
      "execution_count": null,
      "metadata": {
        "id": "NOCnKutUr5zf",
        "outputId": "c894b18e-1653-4b2b-9ce6-2a737f6447f8",
        "colab": {
          "base_uri": "https://localhost:8080/"
        }
      },
      "outputs": [
        {
          "output_type": "execute_result",
          "data": {
            "text/plain": [
              "33.0"
            ]
          },
          "metadata": {},
          "execution_count": 10
        }
      ],
      "source": [
        "#Multiplication\n",
        "y*x"
      ]
    },
    {
      "cell_type": "code",
      "execution_count": null,
      "metadata": {
        "id": "4cRYIfyNr5zf",
        "outputId": "92202c8e-6cd7-4457-b9ab-095cabfb29e5",
        "colab": {
          "base_uri": "https://localhost:8080/"
        }
      },
      "outputs": [
        {
          "output_type": "execute_result",
          "data": {
            "text/plain": [
              "25"
            ]
          },
          "metadata": {},
          "execution_count": 11
        }
      ],
      "source": [
        "#Exponentiation\n",
        "x**2"
      ]
    },
    {
      "cell_type": "code",
      "execution_count": null,
      "metadata": {
        "id": "16cCOZY3r5zf",
        "outputId": "fcba4660-b5c2-41ec-d2b9-bc268ddf37da",
        "colab": {
          "base_uri": "https://localhost:8080/"
        }
      },
      "outputs": [
        {
          "output_type": "execute_result",
          "data": {
            "text/plain": [
              "1"
            ]
          },
          "metadata": {},
          "execution_count": 12
        }
      ],
      "source": [
        "#Modulus operator - outputs the remainder\n",
        "7%2"
      ]
    },
    {
      "cell_type": "code",
      "execution_count": null,
      "metadata": {
        "id": "lKNrTwrRr5zf",
        "outputId": "36c73418-f81c-49f6-d8c8-a25783fc8b72",
        "colab": {
          "base_uri": "https://localhost:8080/"
        }
      },
      "outputs": [
        {
          "output_type": "execute_result",
          "data": {
            "text/plain": [
              "4"
            ]
          },
          "metadata": {},
          "execution_count": 13
        }
      ],
      "source": [
        "#absolute value\n",
        "abs(-4)"
      ]
    },
    {
      "cell_type": "code",
      "execution_count": null,
      "metadata": {
        "id": "jPzC0oADr5zf",
        "outputId": "0e961696-e377-4deb-ea75-d651add348c6",
        "colab": {
          "base_uri": "https://localhost:8080/"
        }
      },
      "outputs": [
        {
          "output_type": "execute_result",
          "data": {
            "text/plain": [
              "6.0"
            ]
          },
          "metadata": {},
          "execution_count": 14
        }
      ],
      "source": [
        "#Taking a square root.  Python has many nice built in packages. We will have an entire lecture on important python packages\n",
        "import math\n",
        "math.sqrt(36)"
      ]
    },
    {
      "cell_type": "markdown",
      "metadata": {
        "id": "WKFzUUfOr5zf"
      },
      "source": [
        "Lets say we have a variable count that we want to increment by one. We could do the following:"
      ]
    },
    {
      "cell_type": "code",
      "execution_count": null,
      "metadata": {
        "id": "L4sntZXzr5zf",
        "outputId": "39040345-3b5c-44a5-a82a-2fbb6712aab1",
        "colab": {
          "base_uri": "https://localhost:8080/"
        }
      },
      "outputs": [
        {
          "output_type": "execute_result",
          "data": {
            "text/plain": [
              "1"
            ]
          },
          "metadata": {},
          "execution_count": 15
        }
      ],
      "source": [
        "count=0\n",
        "count= count+1\n",
        "count"
      ]
    },
    {
      "cell_type": "markdown",
      "metadata": {
        "id": "kZP93ToYr5zf"
      },
      "source": [
        "The **\"+=\"** operator is shorthand for this operation that is very useful."
      ]
    },
    {
      "cell_type": "code",
      "execution_count": null,
      "metadata": {
        "id": "wovmCRzEr5zf",
        "outputId": "ea02bd64-9693-4272-88b4-f13b4dfc5978",
        "colab": {
          "base_uri": "https://localhost:8080/"
        }
      },
      "outputs": [
        {
          "output_type": "execute_result",
          "data": {
            "text/plain": [
              "1"
            ]
          },
          "metadata": {},
          "execution_count": 16
        }
      ],
      "source": [
        "count=0\n",
        "count+=1\n",
        "count"
      ]
    },
    {
      "cell_type": "markdown",
      "metadata": {
        "id": "XY4T4_D1r5zf"
      },
      "source": [
        "### Boolean Objects\n",
        "\n",
        "The Boolean type can be viewed as numeric in nature because its values (True or False) are just customized versions of the integers 1 and 0 that print themselves differently.  The True and False of the boolean class behave in the same way as 1 and 0, they just make code more readable."
      ]
    },
    {
      "cell_type": "code",
      "execution_count": null,
      "metadata": {
        "run_control": {
          "marked": false
        },
        "id": "rg4kUa55r5zf",
        "outputId": "0da8e21f-8b2a-4abb-df04-298bc0256c4e",
        "colab": {
          "base_uri": "https://localhost:8080/"
        }
      },
      "outputs": [
        {
          "output_type": "execute_result",
          "data": {
            "text/plain": [
              "bool"
            ]
          },
          "metadata": {},
          "execution_count": 5
        }
      ],
      "source": [
        "boolean_var = True\n",
        "\n",
        "boolean_var\n",
        "\n",
        "type(boolean_var)"
      ]
    },
    {
      "cell_type": "code",
      "execution_count": null,
      "metadata": {
        "run_control": {
          "marked": false
        },
        "id": "QOXQLvcJr5zf",
        "outputId": "134bd52a-1d26-473a-c5b5-17b2a2bb7397",
        "colab": {
          "base_uri": "https://localhost:8080/"
        }
      },
      "outputs": [
        {
          "output_type": "execute_result",
          "data": {
            "text/plain": [
              "5"
            ]
          },
          "metadata": {},
          "execution_count": 6
        }
      ],
      "source": [
        "# A True can be treated exactly as a 1\n",
        "boolean_var*5"
      ]
    },
    {
      "cell_type": "markdown",
      "metadata": {
        "id": "2pV9IgR4r5zf"
      },
      "source": [
        "Lets ask if 5 is equal to 'a'.  We can do this with the double equals signs '==', more on this later."
      ]
    },
    {
      "cell_type": "code",
      "execution_count": null,
      "metadata": {
        "id": "ij2-S7iBr5zf"
      },
      "outputs": [],
      "source": [
        "#Notice that we get a False instead of a 0.\n",
        "b = 5==5"
      ]
    },
    {
      "cell_type": "code",
      "source": [
        "print(b)"
      ],
      "metadata": {
        "colab": {
          "base_uri": "https://localhost:8080/"
        },
        "id": "N4YqvXbUY1ia",
        "outputId": "f79aee5c-05ca-4e18-e1d4-759e8e05a59e"
      },
      "execution_count": null,
      "outputs": [
        {
          "output_type": "stream",
          "name": "stdout",
          "text": [
            "True\n"
          ]
        }
      ]
    },
    {
      "cell_type": "code",
      "source": [
        "a = 9\n",
        "b = 10\n",
        "c = (a>b)"
      ],
      "metadata": {
        "id": "mdEjD9ahZHLA"
      },
      "execution_count": null,
      "outputs": []
    },
    {
      "cell_type": "code",
      "source": [
        "print(c)"
      ],
      "metadata": {
        "colab": {
          "base_uri": "https://localhost:8080/"
        },
        "id": "FU8C-1yCZX8M",
        "outputId": "16e6b695-0fd1-4fdb-a943-e035b2e4cbe4"
      },
      "execution_count": null,
      "outputs": [
        {
          "output_type": "stream",
          "name": "stdout",
          "text": [
            "False\n"
          ]
        }
      ]
    },
    {
      "cell_type": "code",
      "source": [
        "type(c)"
      ],
      "metadata": {
        "colab": {
          "base_uri": "https://localhost:8080/"
        },
        "id": "RJ7sNlxUY4ls",
        "outputId": "4cc6dd00-3c5d-4670-8f18-ecea953c21f0"
      },
      "execution_count": null,
      "outputs": [
        {
          "output_type": "execute_result",
          "data": {
            "text/plain": [
              "bool"
            ]
          },
          "metadata": {},
          "execution_count": 21
        }
      ]
    },
    {
      "cell_type": "code",
      "execution_count": null,
      "metadata": {
        "id": "uCDMZioQr5zf",
        "outputId": "57880273-c12f-4877-f09b-c6155b13527c",
        "colab": {
          "base_uri": "https://localhost:8080/"
        }
      },
      "outputs": [
        {
          "output_type": "execute_result",
          "data": {
            "text/plain": [
              "True"
            ]
          },
          "metadata": {},
          "execution_count": 22
        }
      ],
      "source": [
        "#Lets see if True is equal to 1\n",
        "True==1"
      ]
    },
    {
      "cell_type": "markdown",
      "metadata": {
        "id": "gxLkhPyCr5zf"
      },
      "source": [
        "**Naming variables**: It is a very good practice to give your variable names descriptive name so you and others reading your code can remember what they represent. The convention for creating the variable name is to use \"_\" to separate words.  For example, a variable that stores my age could be jake_age."
      ]
    },
    {
      "cell_type": "markdown",
      "metadata": {
        "id": "4_rYtMXwr5zf"
      },
      "source": [
        "## Strings (immutable)\n",
        "\n",
        "The Python string is an ordered collection of characters used to store and represent text-based information.  From a functional perspective, strings can be used to represent just about anything that can be encoded as text: symbols, words, numbers, contents of files, etc...\n",
        "\n",
        "Strings are created by placing quotation marks (single or double) around the given sequence of characters. Strings are immutable sequences, meaning that the characters they contain have a left to right positional order that cannot be changed in place.  They support operations such as:\n",
        "\n",
        "- concatenation (combining strings)\n",
        "- slicing (extracting sections)\n",
        "- indexing (fetching by offset)\n",
        "- the list goes on...\n",
        "\n",
        "Python also provides a set of string methods that implement commmon string-specific tasks, as well as modules for more advanced text processing tasks such as pattern matching. Let's create some strings!\n"
      ]
    },
    {
      "cell_type": "code",
      "execution_count": null,
      "metadata": {
        "id": "4klHCXkzr5zg",
        "outputId": "746e1ead-e2de-4c51-94c9-4324cafadb6e",
        "colab": {
          "base_uri": "https://localhost:8080/",
          "height": 35
        }
      },
      "outputs": [
        {
          "output_type": "execute_result",
          "data": {
            "text/plain": [
              "'Little Charlie'"
            ],
            "application/vnd.google.colaboratory.intrinsic+json": {
              "type": "string"
            }
          },
          "metadata": {},
          "execution_count": 23
        }
      ],
      "source": [
        "#We generally use single quotes to create a string\n",
        "dog_name = 'Little Charlie'\n",
        "\n",
        "dog_name"
      ]
    },
    {
      "cell_type": "code",
      "execution_count": null,
      "metadata": {
        "id": "koH7qGAAr5zg",
        "outputId": "3b3461d5-fe2a-4fa4-f8f6-c23e3508143a",
        "colab": {
          "base_uri": "https://localhost:8080/"
        }
      },
      "outputs": [
        {
          "output_type": "execute_result",
          "data": {
            "text/plain": [
              "str"
            ]
          },
          "metadata": {},
          "execution_count": 24
        }
      ],
      "source": [
        "#We can check the type as follows\n",
        "type(dog_name)"
      ]
    },
    {
      "cell_type": "markdown",
      "metadata": {
        "id": "qDXuZjPBr5zg"
      },
      "source": [
        "We can see the number of characters in the string using the built in **len** function. Note that the space will count as a character."
      ]
    },
    {
      "cell_type": "code",
      "execution_count": null,
      "metadata": {
        "id": "cFSNEBqYr5zg",
        "outputId": "c603c508-595d-47a2-813e-fee055a43508",
        "colab": {
          "base_uri": "https://localhost:8080/"
        }
      },
      "outputs": [
        {
          "output_type": "execute_result",
          "data": {
            "text/plain": [
              "14"
            ]
          },
          "metadata": {},
          "execution_count": 25
        }
      ],
      "source": [
        "#Find the number of characters in a string\n",
        "len(dog_name)"
      ]
    },
    {
      "cell_type": "markdown",
      "metadata": {
        "id": "ooq02CSar5zg"
      },
      "source": [
        "Using double quotes to create the string allows us to embed things like an apostrophe inside the string."
      ]
    },
    {
      "cell_type": "code",
      "execution_count": null,
      "metadata": {
        "id": "kuPP7bp-r5zg",
        "outputId": "c1c558c2-f097-4e36-fad2-0f6680a70b18",
        "colab": {
          "base_uri": "https://localhost:8080/",
          "height": 35
        }
      },
      "outputs": [
        {
          "output_type": "execute_result",
          "data": {
            "text/plain": [
              "\"Jake's favorite ice cream is mint chip.\""
            ],
            "application/vnd.google.colaboratory.intrinsic+json": {
              "type": "string"
            }
          },
          "metadata": {},
          "execution_count": 26
        }
      ],
      "source": [
        "#One way to embed an apostrophe\n",
        "sentence_w_apostrophe = \"Jake's favorite ice cream is mint chip.\"\n",
        "\n",
        "sentence_w_apostrophe"
      ]
    },
    {
      "cell_type": "code",
      "execution_count": null,
      "metadata": {
        "id": "qU-9O_pdr5zj",
        "outputId": "b364cac6-e173-45fe-b722-0b280fa35282",
        "colab": {
          "base_uri": "https://localhost:8080/",
          "height": 35
        }
      },
      "outputs": [
        {
          "output_type": "execute_result",
          "data": {
            "text/plain": [
              "\"Jake's favorite cookie is chocolate chip.\""
            ],
            "application/vnd.google.colaboratory.intrinsic+json": {
              "type": "string"
            }
          },
          "metadata": {},
          "execution_count": 25
        }
      ],
      "source": [
        "#Another way is to use the backslash with single quotes\n",
        "other_sentence_w_apostrophe = 'Jake\\'s favorite cookie is chocolate chip.'\n",
        "\n",
        "other_sentence_w_apostrophe"
      ]
    },
    {
      "cell_type": "markdown",
      "metadata": {
        "id": "vHqbhFmtr5zj"
      },
      "source": [
        "The backslash additional string formatting capabilities. Consider the following commands:\n",
        "\n",
        "- **\\t** - inserts tab in string\n",
        "- **\\n** -  inserts new line in string\n",
        "\n",
        "These will probably be the ones you use most, but there are others."
      ]
    },
    {
      "cell_type": "code",
      "execution_count": null,
      "metadata": {
        "id": "PF8tla_Mr5zj",
        "outputId": "c4fe8f61-34fa-491b-9935-7ae58f3814d8",
        "colab": {
          "base_uri": "https://localhost:8080/",
          "height": 35
        }
      },
      "outputs": [
        {
          "output_type": "execute_result",
          "data": {
            "text/plain": [
              "'Roses are red, \\nviolets are blue.'"
            ],
            "application/vnd.google.colaboratory.intrinsic+json": {
              "type": "string"
            }
          },
          "metadata": {},
          "execution_count": 27
        }
      ],
      "source": [
        "sentence_w_newline = 'Roses are red, \\nviolets are blue.'\n",
        "\n",
        "#Notice that when we just output the variable, the new line character appears\n",
        "sentence_w_newline"
      ]
    },
    {
      "cell_type": "code",
      "execution_count": null,
      "metadata": {
        "id": "GkZ7kPHAr5zj",
        "outputId": "89317c33-9f9d-4837-bfb0-0ebaf1fd2341",
        "colab": {
          "base_uri": "https://localhost:8080/"
        }
      },
      "outputs": [
        {
          "output_type": "stream",
          "name": "stdout",
          "text": [
            "Roses are red, \n",
            "violets are blue.\n"
          ]
        }
      ],
      "source": [
        "#printing the variable will formate the string\n",
        "print(sentence_w_newline)"
      ]
    },
    {
      "cell_type": "code",
      "execution_count": null,
      "metadata": {
        "id": "NByLtCBxr5zj",
        "outputId": "3e9dc687-e362-45a4-bbf5-f93bbadf73c8",
        "colab": {
          "base_uri": "https://localhost:8080/",
          "height": 35
        }
      },
      "outputs": [
        {
          "output_type": "execute_result",
          "data": {
            "text/plain": [
              "' Roses are red,\\nviolets are blue.    '"
            ],
            "application/vnd.google.colaboratory.intrinsic+json": {
              "type": "string"
            }
          },
          "metadata": {},
          "execution_count": 29
        }
      ],
      "source": [
        "#We can also create a string with multiple lines using 3 double quotes as follows\n",
        "sentence_w_triple_quotes =  \"\"\" Roses are red,\n",
        "violets are blue.    \"\"\"\n",
        "\n",
        "#Note that the new line character is added for us.\n",
        "sentence_w_triple_quotes"
      ]
    },
    {
      "cell_type": "markdown",
      "metadata": {
        "id": "id-jpCxKr5zj"
      },
      "source": [
        "We can check if a character is in a string using **in**. There is also a **not in**.  The result return a boolean."
      ]
    },
    {
      "cell_type": "code",
      "execution_count": null,
      "metadata": {
        "id": "AwUyLUsIr5zj",
        "outputId": "4d29bf65-4cb1-4092-84da-de135f7c0ca4",
        "colab": {
          "base_uri": "https://localhost:8080/"
        }
      },
      "outputs": [
        {
          "output_type": "execute_result",
          "data": {
            "text/plain": [
              "True"
            ]
          },
          "metadata": {},
          "execution_count": 11
        }
      ],
      "source": [
        "#Use of in\n",
        "name  = 'Charlie'\n",
        "\n",
        "\"a\" in name"
      ]
    },
    {
      "cell_type": "code",
      "execution_count": null,
      "metadata": {
        "id": "6iGA3n6hr5zk",
        "outputId": "d9122b06-1ff1-470b-dfe4-1f0231014b43",
        "colab": {
          "base_uri": "https://localhost:8080/"
        }
      },
      "outputs": [
        {
          "output_type": "execute_result",
          "data": {
            "text/plain": [
              "True"
            ]
          },
          "metadata": {},
          "execution_count": 30
        }
      ],
      "source": [
        "#Another use\n",
        "\n",
        "\"Charl\" in name"
      ]
    },
    {
      "cell_type": "code",
      "execution_count": null,
      "metadata": {
        "id": "AH3REbAMr5zk",
        "outputId": "64516ef9-9242-41f8-ad67-bdcd877c7d89",
        "colab": {
          "base_uri": "https://localhost:8080/"
        }
      },
      "outputs": [
        {
          "output_type": "execute_result",
          "data": {
            "text/plain": [
              "True"
            ]
          },
          "metadata": {},
          "execution_count": 31
        }
      ],
      "source": [
        "#Use of not in\n",
        "\n",
        "'5' not in name"
      ]
    },
    {
      "cell_type": "markdown",
      "metadata": {
        "id": "Pp1ZciCtr5zk"
      },
      "source": [
        "These string formatting techniques will be extremely important when we start reading and writing to files and more generally dealing with data."
      ]
    },
    {
      "cell_type": "markdown",
      "metadata": {
        "id": "DxxaouQ5r5zk"
      },
      "source": [
        "## Slicing and Indexing\n",
        "\n",
        "Each string can be viewed as a left to right ordering of a sequence of characters.  As a result, these characters can be accessed through this ordering.  For strings and other python objects, the indexing starts at 0 and ends a len()-1 and the indices that you would like accessed are always enclosed in **square brackets**.  Let's do some slicing!"
      ]
    },
    {
      "cell_type": "code",
      "execution_count": null,
      "metadata": {
        "id": "4ZCN7hftr5zk",
        "outputId": "c7213c74-24e3-4078-9bbe-f38a311c7e27",
        "colab": {
          "base_uri": "https://localhost:8080/",
          "height": 35
        }
      },
      "outputs": [
        {
          "output_type": "execute_result",
          "data": {
            "text/plain": [
              "'s'"
            ],
            "application/vnd.google.colaboratory.intrinsic+json": {
              "type": "string"
            }
          },
          "metadata": {},
          "execution_count": 32
        }
      ],
      "source": [
        "s = 'spam'\n",
        "\n",
        "#Get the first and last character.  Jupyter return a tuple here, this is an object we will learn about later.\n",
        "s[0]"
      ]
    },
    {
      "cell_type": "code",
      "source": [
        "s[1]"
      ],
      "metadata": {
        "colab": {
          "base_uri": "https://localhost:8080/",
          "height": 35
        },
        "id": "dxMLB2EpamBl",
        "outputId": "8b5d3f88-7ac1-4786-b831-f8d3ecd5c7c1"
      },
      "execution_count": null,
      "outputs": [
        {
          "output_type": "execute_result",
          "data": {
            "text/plain": [
              "'p'"
            ],
            "application/vnd.google.colaboratory.intrinsic+json": {
              "type": "string"
            }
          },
          "metadata": {},
          "execution_count": 33
        }
      ]
    },
    {
      "cell_type": "code",
      "source": [
        "s[3]"
      ],
      "metadata": {
        "colab": {
          "base_uri": "https://localhost:8080/",
          "height": 35
        },
        "id": "tgWzstfxanfz",
        "outputId": "91db39a6-edf5-47d5-e9a4-1d0840c58064"
      },
      "execution_count": null,
      "outputs": [
        {
          "output_type": "execute_result",
          "data": {
            "text/plain": [
              "'m'"
            ],
            "application/vnd.google.colaboratory.intrinsic+json": {
              "type": "string"
            }
          },
          "metadata": {},
          "execution_count": 34
        }
      ]
    },
    {
      "cell_type": "code",
      "source": [
        "s[2]"
      ],
      "metadata": {
        "colab": {
          "base_uri": "https://localhost:8080/",
          "height": 35
        },
        "id": "0rOdW_0OaqV1",
        "outputId": "2a3e8375-ef6a-4af3-a9df-6d07d7e7518a"
      },
      "execution_count": null,
      "outputs": [
        {
          "output_type": "execute_result",
          "data": {
            "text/plain": [
              "'a'"
            ],
            "application/vnd.google.colaboratory.intrinsic+json": {
              "type": "string"
            }
          },
          "metadata": {},
          "execution_count": 35
        }
      ]
    },
    {
      "cell_type": "code",
      "source": [
        "s[len(s)-1]"
      ],
      "metadata": {
        "colab": {
          "base_uri": "https://localhost:8080/",
          "height": 35
        },
        "id": "Fnb8VwBrarzm",
        "outputId": "c9d7c2f4-bda7-49ac-acf2-1535ec47b160"
      },
      "execution_count": null,
      "outputs": [
        {
          "output_type": "execute_result",
          "data": {
            "text/plain": [
              "'m'"
            ],
            "application/vnd.google.colaboratory.intrinsic+json": {
              "type": "string"
            }
          },
          "metadata": {},
          "execution_count": 36
        }
      ]
    },
    {
      "cell_type": "markdown",
      "metadata": {
        "id": "4nUfS969r5zk"
      },
      "source": [
        "We can even slice chunks of a string by separating the beginning and end indices by a \":\".  The end index in non-inclusive."
      ]
    },
    {
      "cell_type": "code",
      "execution_count": null,
      "metadata": {
        "id": "n4kfcfDPr5zk",
        "outputId": "219f5d63-1781-41cd-bb33-c43e18350be6",
        "colab": {
          "base_uri": "https://localhost:8080/"
        }
      },
      "outputs": [
        {
          "output_type": "execute_result",
          "data": {
            "text/plain": [
              "('Hello', 'Hello')"
            ]
          },
          "metadata": {},
          "execution_count": 12
        }
      ],
      "source": [
        "greeting = \"Hello there!\"\n",
        "\n",
        "#Get hello.  By leaving the first entry blank, the slicing defaults to 0.\n",
        "greeting[0:5], greeting[:5]"
      ]
    },
    {
      "cell_type": "markdown",
      "metadata": {
        "id": "kOhoSF0ir5zk"
      },
      "source": [
        "You can even add a third index, which indicates how you want to step through the string.  For example, putting a 2 in this third index you will skip over every other character.  If this third index is not supplied, it defaults to 1, as you would expect."
      ]
    },
    {
      "cell_type": "code",
      "execution_count": null,
      "metadata": {
        "id": "5-fDbIXir5zk",
        "outputId": "146238bd-125e-43a9-b243-b0efe3c84877",
        "colab": {
          "base_uri": "https://localhost:8080/",
          "height": 35
        }
      },
      "outputs": [
        {
          "output_type": "execute_result",
          "data": {
            "text/plain": [
              "'Hlotee'"
            ],
            "application/vnd.google.colaboratory.intrinsic+json": {
              "type": "string"
            }
          },
          "metadata": {},
          "execution_count": 13
        }
      ],
      "source": [
        "#Get every second letter of entire string\n",
        "greeting[::2]"
      ]
    },
    {
      "cell_type": "markdown",
      "metadata": {
        "id": "lZOcxFddr5zk"
      },
      "source": [
        "Recall that string are immutable, so we cannot change them inplace.  Consequently, the following operation results in an error"
      ]
    },
    {
      "cell_type": "code",
      "execution_count": null,
      "metadata": {
        "id": "0vFTBjolr5zk",
        "outputId": "da814e3e-0c18-479e-ea61-558269ebbf56",
        "colab": {
          "base_uri": "https://localhost:8080/",
          "height": 176
        }
      },
      "outputs": [
        {
          "output_type": "error",
          "ename": "TypeError",
          "evalue": "'str' object does not support item assignment",
          "traceback": [
            "\u001b[0;31m---------------------------------------------------------------------------\u001b[0m",
            "\u001b[0;31mTypeError\u001b[0m                                 Traceback (most recent call last)",
            "\u001b[0;32m/tmp/ipython-input-663873169.py\u001b[0m in \u001b[0;36m<cell line: 0>\u001b[0;34m()\u001b[0m\n\u001b[1;32m      2\u001b[0m \u001b[0;34m\u001b[0m\u001b[0m\n\u001b[1;32m      3\u001b[0m \u001b[0;31m#I cannot just change the second index\u001b[0m\u001b[0;34m\u001b[0m\u001b[0;34m\u001b[0m\u001b[0m\n\u001b[0;32m----> 4\u001b[0;31m \u001b[0mmispelled_name\u001b[0m\u001b[0;34m[\u001b[0m\u001b[0;36m2\u001b[0m\u001b[0;34m]\u001b[0m \u001b[0;34m=\u001b[0m \u001b[0;34m'k'\u001b[0m\u001b[0;34m\u001b[0m\u001b[0;34m\u001b[0m\u001b[0m\n\u001b[0m",
            "\u001b[0;31mTypeError\u001b[0m: 'str' object does not support item assignment"
          ]
        }
      ],
      "source": [
        "mispelled_name = \"Jaqe\"\n",
        "\n",
        "#I cannot just change the second index\n",
        "mispelled_name[2] = 'k'"
      ]
    },
    {
      "cell_type": "markdown",
      "metadata": {
        "id": "76oGZUTHr5zk"
      },
      "source": [
        "For now, we will have to do this correction via concatenation.  This will be our first example of **polymorphism**; the idea that certain operators act differently depending on the type of objects they act upon. For numbers, the \"+\" operator performs addition.  For strings, the \"+\" operation concatenates the string.  Note that the + operator for strings is does not follows the commutative property since order matters.  So we do not have a+b=b+a if a and b are strings."
      ]
    },
    {
      "cell_type": "code",
      "execution_count": null,
      "metadata": {
        "id": "A-sxWpHFr5zk",
        "outputId": "3763c85e-41ae-49f7-f1b4-267b063acf5a",
        "colab": {
          "base_uri": "https://localhost:8080/",
          "height": 35
        }
      },
      "outputs": [
        {
          "output_type": "execute_result",
          "data": {
            "text/plain": [
              "'abcdef'"
            ],
            "application/vnd.google.colaboratory.intrinsic+json": {
              "type": "string"
            }
          },
          "metadata": {},
          "execution_count": 40
        }
      ],
      "source": [
        "first_three_letters = \"abc\"\n",
        "next_three_letters = \"def\"\n",
        "\n",
        "#Concatenate the two strings\n",
        "first_six_lettters = first_three_letters + next_three_letters\n",
        "\n",
        "first_six_lettters"
      ]
    },
    {
      "cell_type": "code",
      "execution_count": null,
      "metadata": {
        "id": "b3u75Vksr5zk",
        "outputId": "b693bb41-6ea1-46ee-c1f5-2affaab107e5",
        "colab": {
          "base_uri": "https://localhost:8080/",
          "height": 35
        }
      },
      "outputs": [
        {
          "output_type": "execute_result",
          "data": {
            "text/plain": [
              "'CDB'"
            ],
            "application/vnd.google.colaboratory.intrinsic+json": {
              "type": "string"
            }
          },
          "metadata": {},
          "execution_count": 15
        }
      ],
      "source": [
        "#Combine slicing and concatenation\n",
        "first_name = \"Charlie\"\n",
        "middle_name = \"Dilly\"\n",
        "last_name = \"Bear\"\n",
        "\n",
        "#Get the initials\n",
        "initials = first_name[0] + middle_name[0] +  last_name[0]\n",
        "\n",
        "initials"
      ]
    },
    {
      "cell_type": "markdown",
      "metadata": {
        "id": "5FOkSHGCr5zk"
      },
      "source": [
        "The \"*\" operation also acts as expected on strings."
      ]
    },
    {
      "cell_type": "code",
      "execution_count": null,
      "metadata": {
        "id": "hZrR4oGMr5zk",
        "outputId": "e43c206d-c15d-41c1-aae1-5fb70a291272",
        "colab": {
          "base_uri": "https://localhost:8080/",
          "height": 35
        }
      },
      "outputs": [
        {
          "output_type": "execute_result",
          "data": {
            "text/plain": [
              "'CharlieCharlie'"
            ],
            "application/vnd.google.colaboratory.intrinsic+json": {
              "type": "string"
            }
          },
          "metadata": {},
          "execution_count": 38
        }
      ],
      "source": [
        "#\"*\" operator on string\n",
        "first_name*2"
      ]
    },
    {
      "cell_type": "markdown",
      "metadata": {
        "id": "QzQQG88vr5zk"
      },
      "source": [
        "What happens when we try to use the \"+\" operator between a string and an int?"
      ]
    },
    {
      "cell_type": "code",
      "execution_count": null,
      "metadata": {
        "id": "3a-zbFMfr5zk",
        "outputId": "23d59d7b-39be-4ba6-9968-a01f29490d19",
        "colab": {
          "base_uri": "https://localhost:8080/",
          "height": 176
        }
      },
      "outputs": [
        {
          "output_type": "error",
          "ename": "TypeError",
          "evalue": "can only concatenate str (not \"int\") to str",
          "traceback": [
            "\u001b[0;31m---------------------------------------------------------------------------\u001b[0m",
            "\u001b[0;31mTypeError\u001b[0m                                 Traceback (most recent call last)",
            "\u001b[0;32m/tmp/ipython-input-1323024198.py\u001b[0m in \u001b[0;36m<cell line: 0>\u001b[0;34m()\u001b[0m\n\u001b[1;32m      3\u001b[0m \u001b[0;34m\u001b[0m\u001b[0m\n\u001b[1;32m      4\u001b[0m \u001b[0;31m#adding string and int\u001b[0m\u001b[0;34m\u001b[0m\u001b[0;34m\u001b[0m\u001b[0m\n\u001b[0;32m----> 5\u001b[0;31m \u001b[0mstr_num\u001b[0m \u001b[0;34m+\u001b[0m\u001b[0mnum\u001b[0m\u001b[0;34m\u001b[0m\u001b[0;34m\u001b[0m\u001b[0m\n\u001b[0m",
            "\u001b[0;31mTypeError\u001b[0m: can only concatenate str (not \"int\") to str"
          ]
        }
      ],
      "source": [
        "str_num = \"6\"\n",
        "num = 5\n",
        "\n",
        "#adding string and int\n",
        "str_num +num"
      ]
    },
    {
      "cell_type": "markdown",
      "metadata": {
        "id": "dcXNv2Exr5zk"
      },
      "source": [
        "We get an error! We either need to convert the string to an int or vice versa."
      ]
    },
    {
      "cell_type": "code",
      "execution_count": null,
      "metadata": {
        "id": "fEO3lQBlr5zl",
        "outputId": "781dc1c6-7086-4049-a0f5-1013ddb7e7cd",
        "colab": {
          "base_uri": "https://localhost:8080/"
        }
      },
      "outputs": [
        {
          "output_type": "execute_result",
          "data": {
            "text/plain": [
              "('56', 11)"
            ]
          },
          "metadata": {},
          "execution_count": 40
        }
      ],
      "source": [
        "#Doing the approproate type conversions for the operation to work.\n",
        "str(num) + str_num, num + int(str_num)"
      ]
    },
    {
      "cell_type": "code",
      "execution_count": null,
      "metadata": {
        "id": "5W0SwREgr5zl",
        "outputId": "ff4a8108-da04-49d3-e055-6cf57e7e118d",
        "colab": {
          "base_uri": "https://localhost:8080/"
        }
      },
      "outputs": [
        {
          "output_type": "stream",
          "name": "stdout",
          "text": [
            "59,30,100\n",
            "\n"
          ]
        }
      ],
      "source": [
        "#So at this point, we have to do the following to get a row of data in a csv file\n",
        "height = 59\n",
        "age = 30\n",
        "weight =100\n",
        "\n",
        "row  = str(height) + \",\" + str(age) + \",\" + str(weight) + \"\\n\"\n",
        "\n",
        "print(row)"
      ]
    },
    {
      "cell_type": "markdown",
      "metadata": {
        "id": "z-HJLslpr5zl"
      },
      "source": [
        "## Lists (mutable)\n",
        "\n",
        "Lists are Python's most flexible ordered collection object type.  Unlike strings, lists may be changed in-place.  Python lists are:\n",
        "\n",
        "*Ordered collection of arbitrary objects*: lists are just places to collect other objects.  Lists also maintain a left-to-right positional ordering among the items they contain.\n",
        "\n",
        "*Accessed by offset*: Just as with strings, you can fetch component objects out of a list by indexing the list on the object's offset.  You can also do tasks such as slicing and concatenation.\n",
        "\n",
        "*Variable length, heterogeneous, and arbitrarily nestable*: Unlike strings, lists can grow and shrink in-place, and they can contain any sort of object, not just one character strings.  They also support arbitrary nesting: one can have lists of lists of lists...\n",
        "\n",
        "A list is coded as a series of objects in square brackets, separated by commas."
      ]
    },
    {
      "cell_type": "code",
      "execution_count": null,
      "metadata": {
        "id": "bIwwWzuKr5zl",
        "outputId": "2e0bb65c-11df-4136-9c01-50ac56ee920c",
        "colab": {
          "base_uri": "https://localhost:8080/"
        }
      },
      "outputs": [
        {
          "output_type": "execute_result",
          "data": {
            "text/plain": [
              "[1, 2, 's', 4]"
            ]
          },
          "metadata": {},
          "execution_count": 44
        }
      ],
      "source": [
        "#Creating a list\n",
        "L= [1,2,'s',4]\n",
        "L"
      ]
    },
    {
      "cell_type": "code",
      "execution_count": null,
      "metadata": {
        "id": "40-W-AEAr5zl",
        "outputId": "29b5bcfe-9dd0-4e13-8364-f29efb8347bd",
        "colab": {
          "base_uri": "https://localhost:8080/"
        }
      },
      "outputs": [
        {
          "output_type": "execute_result",
          "data": {
            "text/plain": [
              "4"
            ]
          },
          "metadata": {},
          "execution_count": 45
        }
      ],
      "source": [
        "#Find the length of a list\n",
        "len(L)"
      ]
    },
    {
      "cell_type": "code",
      "execution_count": null,
      "metadata": {
        "id": "1r5QIV8Lr5zl",
        "outputId": "a219d306-6df9-411a-c3bd-34a30f92e604",
        "colab": {
          "base_uri": "https://localhost:8080/"
        }
      },
      "outputs": [
        {
          "output_type": "execute_result",
          "data": {
            "text/plain": [
              "2"
            ]
          },
          "metadata": {},
          "execution_count": 17
        }
      ],
      "source": [
        "#Nested list\n",
        "L=[[1,2,3], ['a','b','c']]\n",
        "\n",
        "L\n",
        "len(L)"
      ]
    },
    {
      "cell_type": "code",
      "source": [
        "L[0]"
      ],
      "metadata": {
        "colab": {
          "base_uri": "https://localhost:8080/"
        },
        "id": "-z4stiB4XDwd",
        "outputId": "15e79e7e-66c4-44c1-b8bb-49247906247f"
      },
      "execution_count": null,
      "outputs": [
        {
          "output_type": "execute_result",
          "data": {
            "text/plain": [
              "[1, 2, 3]"
            ]
          },
          "metadata": {},
          "execution_count": 18
        }
      ]
    },
    {
      "cell_type": "code",
      "source": [
        "len(L[0])"
      ],
      "metadata": {
        "colab": {
          "base_uri": "https://localhost:8080/"
        },
        "id": "IJsRK-i-Xauz",
        "outputId": "026292e6-598f-4b6a-e82f-7f40179f9782"
      },
      "execution_count": null,
      "outputs": [
        {
          "output_type": "execute_result",
          "data": {
            "text/plain": [
              "3"
            ]
          },
          "metadata": {},
          "execution_count": 19
        }
      ]
    },
    {
      "cell_type": "markdown",
      "metadata": {
        "id": "HgF9DNUjr5zl"
      },
      "source": [
        "We can check if an item is in a given list using **in**. The result is a boolean and just like strings, there is also a **not in**.\n"
      ]
    },
    {
      "cell_type": "code",
      "execution_count": null,
      "metadata": {
        "id": "eEfHLJyhr5zl",
        "outputId": "9ef82385-2bbd-48b1-b67a-3629e32284a4",
        "colab": {
          "base_uri": "https://localhost:8080/"
        }
      },
      "outputs": [
        {
          "output_type": "execute_result",
          "data": {
            "text/plain": [
              "False"
            ]
          },
          "metadata": {},
          "execution_count": 20
        }
      ],
      "source": [
        "list_vowels = ['a','e','i', 'o', 'u']\n",
        "\n",
        "'k' in list_vowels\n"
      ]
    },
    {
      "cell_type": "code",
      "source": [
        "'e' in list_vowels"
      ],
      "metadata": {
        "colab": {
          "base_uri": "https://localhost:8080/"
        },
        "id": "jAqkRqBnXlvs",
        "outputId": "3ff61f58-e0f6-4275-fc6c-4771fe20338b"
      },
      "execution_count": null,
      "outputs": [
        {
          "output_type": "execute_result",
          "data": {
            "text/plain": [
              "True"
            ]
          },
          "metadata": {},
          "execution_count": 21
        }
      ]
    },
    {
      "cell_type": "markdown",
      "metadata": {
        "id": "jPDeIqKNr5zl"
      },
      "source": [
        "### Indexing and Slicing\n",
        "\n",
        "Indexing and slicing works the same for lists and strings."
      ]
    },
    {
      "cell_type": "code",
      "execution_count": null,
      "metadata": {
        "id": "0rRM6Dftr5zl",
        "outputId": "24cac1a0-9fed-4a09-b6db-df5b4c1ebb04",
        "colab": {
          "base_uri": "https://localhost:8080/",
          "height": 35
        }
      },
      "outputs": [
        {
          "output_type": "execute_result",
          "data": {
            "text/plain": [
              "'SPAM'"
            ],
            "application/vnd.google.colaboratory.intrinsic+json": {
              "type": "string"
            }
          },
          "metadata": {},
          "execution_count": 22
        }
      ],
      "source": [
        "L= ['spam', 'Spam', \"SPAM\"]\n",
        "\n",
        "L[2]"
      ]
    },
    {
      "cell_type": "code",
      "source": [
        "L[2][2]"
      ],
      "metadata": {
        "colab": {
          "base_uri": "https://localhost:8080/",
          "height": 35
        },
        "id": "xF1HNqT6cT8J",
        "outputId": "6e607039-ec48-47f7-96c4-5c882da21958"
      },
      "execution_count": null,
      "outputs": [
        {
          "output_type": "execute_result",
          "data": {
            "text/plain": [
              "'A'"
            ],
            "application/vnd.google.colaboratory.intrinsic+json": {
              "type": "string"
            }
          },
          "metadata": {},
          "execution_count": 49
        }
      ]
    },
    {
      "cell_type": "markdown",
      "metadata": {
        "id": "8KyRf-3Br5zl"
      },
      "source": [
        "What about when I have lists of lists?"
      ]
    },
    {
      "cell_type": "code",
      "execution_count": null,
      "metadata": {
        "id": "dOnYvrkWr5zl",
        "outputId": "4472ad80-9c2c-45fb-ee45-1826fddba812",
        "colab": {
          "base_uri": "https://localhost:8080/"
        }
      },
      "outputs": [
        {
          "output_type": "execute_result",
          "data": {
            "text/plain": [
              "5"
            ]
          },
          "metadata": {},
          "execution_count": 23
        }
      ],
      "source": [
        "L=[[1,2,3],[4,5,6]]\n",
        "L[1][1]"
      ]
    },
    {
      "cell_type": "markdown",
      "metadata": {
        "id": "BEVdi5Jhr5zl"
      },
      "source": [
        "### Changing Lists In-Place\n",
        "\n",
        "Because lists are mutable, they support operations that change a list in-place.  That is, the operations in this section all modify the list object directly.\n",
        "\n",
        "When using a list, you can change its contents by assigning to either a particular item or an entire section"
      ]
    },
    {
      "cell_type": "code",
      "execution_count": null,
      "metadata": {
        "id": "ObDNZGlSr5zl",
        "outputId": "a9d1710f-339f-4084-f385-3696a0863d8a",
        "colab": {
          "base_uri": "https://localhost:8080/"
        }
      },
      "outputs": [
        {
          "output_type": "execute_result",
          "data": {
            "text/plain": [
              "['spam', 'eggs', 'SPAM']"
            ]
          },
          "metadata": {},
          "execution_count": 50
        }
      ],
      "source": [
        "#Changing an element using slicing\n",
        "L= ['spam', 'Spam', \"SPAM\"]\n",
        "L[1] = 'eggs'\n",
        "L"
      ]
    },
    {
      "cell_type": "code",
      "execution_count": null,
      "metadata": {
        "id": "AaKXPTuyr5zl",
        "outputId": "25965413-979e-4574-c3f8-47335f1e2b6d",
        "colab": {
          "base_uri": "https://localhost:8080/"
        }
      },
      "outputs": [
        {
          "output_type": "execute_result",
          "data": {
            "text/plain": [
              "['eat', 'more', 'SPAM']"
            ]
          },
          "metadata": {},
          "execution_count": 49
        }
      ],
      "source": [
        "#Change a section\n",
        "L[:2] = ['eat', 'more']\n",
        "L"
      ]
    },
    {
      "cell_type": "code",
      "execution_count": null,
      "metadata": {
        "id": "3-2vWz9Yr5zl",
        "outputId": "05da8ab7-4273-4ff1-df3d-f19f9bf6b86c",
        "colab": {
          "base_uri": "https://localhost:8080/"
        }
      },
      "outputs": [
        {
          "output_type": "execute_result",
          "data": {
            "text/plain": [
              "['eat', 'more', 'delicious', 'SPAM']"
            ]
          },
          "metadata": {},
          "execution_count": 50
        }
      ],
      "source": [
        "#Lengths don't have to match\n",
        "L[:2] = ['eat', 'more', 'delicious']\n",
        "L"
      ]
    },
    {
      "cell_type": "markdown",
      "metadata": {
        "id": "sw0U3VMjr5zl"
      },
      "source": [
        "You can use the del statement to delete an item or section in place"
      ]
    },
    {
      "cell_type": "code",
      "execution_count": null,
      "metadata": {
        "id": "dOxTdfOSr5zl",
        "outputId": "75eb8592-8f36-4b38-caf8-29794217fd7f",
        "colab": {
          "base_uri": "https://localhost:8080/"
        }
      },
      "outputs": [
        {
          "output_type": "execute_result",
          "data": {
            "text/plain": [
              "[2, 3]"
            ]
          },
          "metadata": {},
          "execution_count": 51
        }
      ],
      "source": [
        "#Deleting element by index\n",
        "L =[1,2,3]\n",
        "del L[0]\n",
        "L"
      ]
    },
    {
      "cell_type": "markdown",
      "metadata": {
        "id": "WusRkBvTr5zl"
      },
      "source": [
        "### Basic Operations\n",
        "\n",
        "Lists support many of the same operations as strings.  For example, lists respond to the + and * operators much like string"
      ]
    },
    {
      "cell_type": "code",
      "execution_count": null,
      "metadata": {
        "id": "bCgpHarkr5zm",
        "outputId": "6eb0d556-ac51-4630-ffb9-c74e163579ad",
        "colab": {
          "base_uri": "https://localhost:8080/"
        }
      },
      "outputs": [
        {
          "output_type": "execute_result",
          "data": {
            "text/plain": [
              "[1, 2, 3, 4, 5, 6]"
            ]
          },
          "metadata": {},
          "execution_count": 53
        }
      ],
      "source": [
        "#List concatenation\n",
        "L = [1,2,3]\n",
        "newL = L + [4,5,6]\n",
        "newL"
      ]
    },
    {
      "cell_type": "code",
      "execution_count": null,
      "metadata": {
        "id": "f5NVJZe9r5zm",
        "outputId": "0c2fcddf-dd3a-4da0-eb74-664c9b65fffe",
        "colab": {
          "base_uri": "https://localhost:8080/"
        }
      },
      "outputs": [
        {
          "output_type": "execute_result",
          "data": {
            "text/plain": [
              "[1, 2, 3, 4, 5, 6, 1, 2, 3, 4, 5, 6]"
            ]
          },
          "metadata": {},
          "execution_count": 54
        }
      ],
      "source": [
        "#List repetition\n",
        "newL*2"
      ]
    },
    {
      "cell_type": "markdown",
      "metadata": {
        "id": "TPiuFfByr5zm"
      },
      "source": [
        "Again, the + operator only works when the objects on either side are the same type.  You cannot concatenate a string and list unless you first convert the string to a list"
      ]
    },
    {
      "cell_type": "code",
      "execution_count": null,
      "metadata": {
        "id": "qyYW3LR5r5zm",
        "outputId": "c2d2719b-7e78-4ee1-c59e-4d167872b23c",
        "colab": {
          "base_uri": "https://localhost:8080/"
        }
      },
      "outputs": [
        {
          "output_type": "execute_result",
          "data": {
            "text/plain": [
              "[1, 2, 3, '5', '6']"
            ]
          },
          "metadata": {},
          "execution_count": 54
        }
      ],
      "source": [
        "L = [1,2,3]\n",
        "L+list('56')"
      ]
    },
    {
      "cell_type": "markdown",
      "metadata": {
        "id": "GVJQ3SJur5zm"
      },
      "source": [
        "Note that 5 and 6 appear in the list as strings.  If I want them as numbers I can do the following"
      ]
    },
    {
      "cell_type": "code",
      "execution_count": null,
      "metadata": {
        "id": "gE2aRyUVr5zm",
        "outputId": "4735e70e-6050-4411-dfb4-64e694917ba2",
        "colab": {
          "base_uri": "https://localhost:8080/",
          "height": 162
        }
      },
      "outputs": [
        {
          "output_type": "error",
          "ename": "TypeError",
          "evalue": "int() argument must be a string, a bytes-like object or a real number, not 'list'",
          "traceback": [
            "\u001b[0;31m---------------------------------------------------------------------------\u001b[0m",
            "\u001b[0;31mTypeError\u001b[0m                                 Traceback (most recent call last)",
            "\u001b[0;32m/tmp/ipython-input-1116090662.py\u001b[0m in \u001b[0;36m<cell line: 0>\u001b[0;34m()\u001b[0m\n\u001b[1;32m      1\u001b[0m \u001b[0;31m#Unfortunately this doesn't word\u001b[0m\u001b[0;34m\u001b[0m\u001b[0;34m\u001b[0m\u001b[0m\n\u001b[0;32m----> 2\u001b[0;31m \u001b[0mL\u001b[0m \u001b[0;34m+\u001b[0m \u001b[0mint\u001b[0m\u001b[0;34m(\u001b[0m\u001b[0mlist\u001b[0m\u001b[0;34m(\u001b[0m\u001b[0;34m'56'\u001b[0m\u001b[0;34m)\u001b[0m\u001b[0;34m)\u001b[0m\u001b[0;34m\u001b[0m\u001b[0;34m\u001b[0m\u001b[0m\n\u001b[0m",
            "\u001b[0;31mTypeError\u001b[0m: int() argument must be a string, a bytes-like object or a real number, not 'list'"
          ]
        }
      ],
      "source": [
        "#Unfortunately this doesn't word\n",
        "L + int(list('56'))"
      ]
    },
    {
      "cell_type": "code",
      "execution_count": null,
      "metadata": {
        "id": "APOqI-GMr5zm",
        "outputId": "f71806ed-8b4b-465b-fc0b-ec0cb0151d1c",
        "colab": {
          "base_uri": "https://localhost:8080/"
        }
      },
      "outputs": [
        {
          "output_type": "execute_result",
          "data": {
            "text/plain": [
              "[1, 2, 3, 5, 6]"
            ]
          },
          "metadata": {},
          "execution_count": 56
        }
      ],
      "source": [
        "#We need something called list comprehension (more on this tomorrow)\n",
        "L + [int(i) for i in list('56')]"
      ]
    },
    {
      "cell_type": "markdown",
      "metadata": {
        "id": "IEDrwHsKr5zm"
      },
      "source": [
        "The **sorted** function returns a sorted list"
      ]
    },
    {
      "cell_type": "code",
      "execution_count": null,
      "metadata": {
        "id": "I2V23uBir5zm",
        "outputId": "e99092ee-76cf-432f-a488-af12852e1e46",
        "colab": {
          "base_uri": "https://localhost:8080/"
        }
      },
      "outputs": [
        {
          "output_type": "execute_result",
          "data": {
            "text/plain": [
              "[1, 2, 3, 6, 34, 54]"
            ]
          },
          "metadata": {},
          "execution_count": 58
        }
      ],
      "source": [
        "#Sorting a list\n",
        "unsorted_list = [3,2,54,1,6,34]\n",
        "#settting reverse to True gives the list sorted in descending order\n",
        "sorted_list = sorted(unsorted_list, reverse = False)\n",
        "sorted_list\n",
        "\n",
        "#Note that unsorted_list is unchanged"
      ]
    },
    {
      "cell_type": "markdown",
      "metadata": {
        "id": "nNnQqC-er5zm"
      },
      "source": [
        "You might wonder if we can sort the list inplace. We can do exactly this using list methods, which we will learn in a later lecture."
      ]
    },
    {
      "cell_type": "code",
      "execution_count": null,
      "metadata": {
        "id": "E3fz5-psr5zm",
        "outputId": "17660a01-f87b-4871-bb1e-266d598eb073",
        "colab": {
          "base_uri": "https://localhost:8080/"
        }
      },
      "outputs": [
        {
          "output_type": "execute_result",
          "data": {
            "text/plain": [
              "[1, 2, 3, 6, 34, 54]"
            ]
          },
          "metadata": {},
          "execution_count": 58
        }
      ],
      "source": [
        "#sorting a list inplace using the sort method\n",
        "unsorted_list = [3,2,54,1,6,34]\n",
        "unsorted_list.sort()\n",
        "\n",
        "#Note that here unsorted_list is changed\n",
        "unsorted_list"
      ]
    }
  ],
  "metadata": {
    "kernelspec": {
      "display_name": "Python 3",
      "language": "python",
      "name": "python3"
    },
    "language_info": {
      "codemirror_mode": {
        "name": "ipython",
        "version": 3
      },
      "file_extension": ".py",
      "mimetype": "text/x-python",
      "name": "python",
      "nbconvert_exporter": "python",
      "pygments_lexer": "ipython3",
      "version": "3.6.0"
    },
    "toc": {
      "nav_menu": {
        "height": "102px",
        "width": "252px"
      },
      "number_sections": true,
      "sideBar": true,
      "skip_h1_title": false,
      "toc_cell": false,
      "toc_position": {},
      "toc_section_display": "block",
      "toc_window_display": false
    },
    "colab": {
      "provenance": [],
      "include_colab_link": true
    }
  },
  "nbformat": 4,
  "nbformat_minor": 0
}